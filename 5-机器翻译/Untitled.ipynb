{
 "cells": [
  {
   "cell_type": "code",
   "execution_count": 6,
   "metadata": {},
   "outputs": [
    {
     "name": "stdout",
     "output_type": "stream",
     "text": [
      "torch.Size([6, 10, 40]) torch.Size([6, 10, 20])\n",
      "torch.Size([6, 10, 40]) torch.Size([6, 10, 20]) torch.Size([6, 10, 20])\n",
      "torch.Size([6, 10, 40]) torch.Size([6, 10, 20])\n"
     ]
    }
   ],
   "source": [
    "import torch \n",
    "import torch.nn as nn\n",
    "\n",
    "# 数据输入\n",
    "x = torch.randn(6, 10, 200)  # [seq_len, batch, input_dim]\n",
    "\n",
    "# 定义三种网络\n",
    "rnn = nn.RNN(200, 20, 3, bidirectional=True)    # [input_dim, hidden_size, num_layers]\n",
    "lstm = nn.LSTM(200, 20, 3, bidirectional=True)  # [input_dim, hidden_size, num_layers]\n",
    "gru = nn.GRU(200, 20, 3, bidirectional=True)\t# [input_dim, hidden_size, num_layers]\n",
    "\n",
    "# rnn\n",
    "out, hn = rnn(x)\n",
    "print(out.shape, hn.shape)\n",
    "# torch.Size([6, 10, 20]) torch.Size([1, 10, 20])\n",
    "\n",
    "# lstm\n",
    "out, (hn,cn) = lstm(x)\n",
    "print(out.shape, hn.shape, cn.shape)\n",
    "# torch.Size([6, 10, 20]) torch.Size([1, 10, 20]) torch.Size([1, 10, 20])\n",
    "\n",
    "# gru\n",
    "out, hn = gru(x)\n",
    "print(out.shape, hn.shape)\n",
    "# torch.Size([6, 10, 20]) torch.Size([1, 10, 20])\n",
    "\n",
    "\n",
    "# out: [seq_len, batch, hidden_dim]"
   ]
  },
  {
   "cell_type": "code",
   "execution_count": null,
   "metadata": {},
   "outputs": [],
   "source": []
  }
 ],
 "metadata": {
  "kernelspec": {
   "display_name": "Python 3.7.4 64-bit ('base': conda)",
   "language": "python",
   "name": "python37464bitbasecondac1ed852f726f46e99aa9eda212d43d36"
  },
  "language_info": {
   "codemirror_mode": {
    "name": "ipython",
    "version": 3
   },
   "file_extension": ".py",
   "mimetype": "text/x-python",
   "name": "python",
   "nbconvert_exporter": "python",
   "pygments_lexer": "ipython3",
   "version": "3.7.4"
  }
 },
 "nbformat": 4,
 "nbformat_minor": 2
}
